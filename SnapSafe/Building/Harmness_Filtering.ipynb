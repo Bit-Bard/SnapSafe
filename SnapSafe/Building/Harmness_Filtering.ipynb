{
 "cells": [
  {
   "cell_type": "code",
   "execution_count": 1,
   "id": "bec2d08c-ae88-4455-a40a-41563b4d4f96",
   "metadata": {},
   "outputs": [],
   "source": [
    "#\n",
    "import numpy as np \n",
    "import pandas as pd \n",
    "import joblib\n",
    "\n",
    "\n",
    "from ensemble import MajorityVotingEnsemble \n",
    "label_encoder = joblib.load(\"label_encode_main.joblib\")\n",
    "vectorizer = joblib.load(\"tfidf_vectorizer_main.joblib\")"
   ]
  },
  {
   "cell_type": "code",
   "execution_count": 2,
   "id": "ed4f69e7-d949-490d-95e0-a9edf5db19ea",
   "metadata": {},
   "outputs": [],
   "source": [
    "#\n",
    "def patch_ensemble(ensemble):\n",
    "    if not hasattr(ensemble, \"weights\"):\n",
    "        ensemble.weights = [1.0] * len(ensemble.models)\n",
    "    if not hasattr(ensemble, \"tie_breaker_order\"):\n",
    "        ensemble.tie_breaker_order = list(range(len(ensemble.models)))\n",
    "    if not hasattr(ensemble, \"n_classes\"):\n",
    "        ensemble.n_classes = None\n",
    "    return ensemble"
   ]
  },
  {
   "cell_type": "code",
   "execution_count": 3,
   "id": "12b96b49-4e6b-4c1e-b3c2-6a79a7162eb3",
   "metadata": {},
   "outputs": [],
   "source": [
    "#\n",
    "model = joblib.load(\"majority_ensemble.pkl\")"
   ]
  },
  {
   "cell_type": "code",
   "execution_count": 4,
   "id": "89674dd6-7d32-4569-9ca7-1314f1e0082c",
   "metadata": {},
   "outputs": [],
   "source": [
    "#\n",
    "import pytesseract\n",
    "import cv2\n",
    "import pubchempy as pcp\n",
    "from PIL import Image\n",
    "import matplotlib.pyplot as plt"
   ]
  },
  {
   "cell_type": "code",
   "execution_count": 5,
   "id": "1a34a3e3-189a-41c4-9ae2-b11876129d8d",
   "metadata": {},
   "outputs": [],
   "source": [
    "#barcode libraies \n",
    "#\n",
    "import ctypes\n",
    "import cv2\n",
    "from pyzbar import pyzbar\n",
    "from pyzbar import zbar_library"
   ]
  },
  {
   "cell_type": "code",
   "execution_count": 6,
   "id": "f775c831-3f79-40d7-8143-d10afbfd8bee",
   "metadata": {},
   "outputs": [],
   "source": [
    "dll_path = r\"C:\\Users\\dhruv\\AppData\\Roaming\\Python\\Python311\\site-packages\\pyzbar\\libzbar-64.dll\"\n",
    "zbar_library.load = lambda: ctypes.cdll.LoadLibrary(dll_path)\n",
    "\n",
    "image_path = \"Screenshot 2025-06-08 161620.png\" \n",
    "image = cv2.imread('Screenshot 2025-06-08 161620.png')\n"
   ]
  },
  {
   "cell_type": "code",
   "execution_count": null,
   "id": "d6a75d81-65cf-4b8b-9312-5e1e97a89346",
   "metadata": {},
   "outputs": [],
   "source": []
  },
  {
   "cell_type": "code",
   "execution_count": 7,
   "id": "e18e6173-3f4e-4d09-8916-60cfa1d34dfd",
   "metadata": {},
   "outputs": [],
   "source": [
    "#img -> text and barcode\n",
    "#image then convert it into \n",
    "image = cv2.imread('Screenshot 2025-06-08 161620.png')  \n",
    "gray = cv2.cvtColor(image, cv2.COLOR_BGR2GRAY)\n",
    "# remove noise and improve clarity\n",
    "gray = cv2.GaussianBlur(gray, (3, 3), 0)"
   ]
  },
  {
   "cell_type": "code",
   "execution_count": 8,
   "id": "e1d54d9b-6374-49db-ae03-dcae3f5304ba",
   "metadata": {},
   "outputs": [
    {
     "name": "stdout",
     "output_type": "stream",
     "text": [
      "✅ Detected EAN13 barcode: 0858099003002\n"
     ]
    }
   ],
   "source": [
    "#barcode detection and barcode number \n",
    "if image is None:\n",
    "    print(f\"❌ Could not load image: {image_path}\")\n",
    "else:\n",
    "    barcodes = pyzbar.decode(gray)#image\n",
    "\n",
    "    if not barcodes:\n",
    "        print(\"⚠️ No barcodes found.\")\n",
    "    else:\n",
    "        for barcode in barcodes:\n",
    "            x, y, w, h = barcode.rect\n",
    "            data = barcode.data.decode('utf-8')\n",
    "            type_ = barcode.type\n",
    "\n",
    "            print(f\"✅ Detected {type_} barcode: {data}\")\n",
    "\n",
    "            # Draw rectangle and label\n",
    "            cv2.rectangle(image, (x, y), (x + w, y + h), (0, 255, 0), 2)\n",
    "            cv2.putText(image, f\"{data} ({type_})\", (x, y - 10),\n",
    "            cv2.FONT_HERSHEY_SIMPLEX, 0.6, (255, 0, 0), 2)\n",
    "\n",
    "        # ✅ Step 5: Show image with annotations\n",
    "        # cv2.imshow(\"Barcode Detection\", image)\n",
    "        # cv2.waitKey(0)\n",
    "        # cv2.destroyAllWindows()"
   ]
  },
  {
   "cell_type": "code",
   "execution_count": 9,
   "id": "f56060de-3f34-4113-949a-1a87d0d17b66",
   "metadata": {},
   "outputs": [],
   "source": [
    "# def barcode_detection(gray):\n",
    "#     barcodes = pyzbar.decode(gray)#image\n",
    "\n",
    "#     if not barcodes:\n",
    "#         print(\"⚠️ No barcodes found.\")\n",
    "#     else:\n",
    "#         for barcode in barcodes:\n",
    "#             x, y, w, h = barcode.rect\n",
    "#             data = barcode.data.decode('utf-8')\n",
    "#             type_ = barcode.type\n",
    "#             print(f\"✅ Detected {type_} barcode: {data}\")\n",
    "#             title, brand, category= get_general_product_info(data)\n",
    "#             if len(title) and len(description) == 0:\n",
    "#                 print(\"No Details found\")\n",
    "#                 break\n",
    "#             else:\n",
    "#                 print(title, brand, category)\n",
    "\n",
    "    \n",
    "# barcode_detection(gray)"
   ]
  },
  {
   "cell_type": "code",
   "execution_count": 10,
   "id": "e146955a-5f68-4f9f-af68-54adea114890",
   "metadata": {},
   "outputs": [
    {
     "name": "stdout",
     "output_type": "stream",
     "text": [
      "Extracted Ingredients:\n",
      "964\n"
     ]
    }
   ],
   "source": [
    "#img-> text\n",
    "pytesseract.pytesseract.tesseract_cmd = r'C:\\Users\\dhruv\\AppData\\Local\\Programs\\Tesseract-OCR\\tesseract.exe' #tesseract path\n",
    "text = pytesseract.image_to_string(gray)\n",
    "print(\"Extracted Ingredients:\")\n",
    "print(len(text))"
   ]
  },
  {
   "cell_type": "code",
   "execution_count": 11,
   "id": "e6246ceb-d139-46a2-ab1f-afd325ac888f",
   "metadata": {},
   "outputs": [
    {
     "name": "stdout",
     "output_type": "stream",
     "text": [
      "CALIFORNIA PROPOSITION 65\n",
      "Warning: This product contoins nicotine, o chemical known to the\n",
      "stote of Colifornio to couse birth defects or other reproductive horm\n",
      "\n",
      "Tngr “ym Silas Hota. Nicotine, FCC Grade Vegetable Glycerin,\n",
      "\n",
      "[etre Fos, lv Ac. Westin conten 6 8 per\n",
      "contri\n",
      "\n",
      "Made in China.\n",
      "Flavors mode in USA\n",
      "©2012 LOEC, in.\n",
      "\n",
      "blu™ ond blu eCigs® are trademarks of Lorillord Technologies, Inc.\n",
      "\n",
      "1 serving per pack\n",
      "Serving size 1 pack (32.35)\n",
      "cesar appara\n",
      "\n",
      "Calories 150\n",
      "\n",
      "Trans Fat 09\n",
      "Cholesterol m9\n",
      "Sodium 1059 ot\n",
      "\n",
      "INGREDIENTS\n",
      "MILK CHOCOLATE (SUGAR\n",
      "CHOCOLATE MILK. COCOA\n",
      "BL T T. SOY\n",
      "LE\n",
      "\n",
      "(WHEAT FLOUR. NIACIN\n",
      "\n",
      "IRON, AMINE M\n",
      "\n",
      "RIBOFLAVIN, FOLIC ACID)\n",
      "\n",
      "MODIFIED SAGO STARCH. SAI\n",
      "\n",
      "SOYBEAN OIL, CORN SYRUP.\n",
      "\n",
      "BARLEY MALT EXTRACT\n",
      "\n",
      "LEAVENING (BAKING SODA. YEAS\n",
      "\n",
      "AND/OR AMMONIUM\n",
      "\n",
      "BICARBONATE)]. LESS THAN 2\n",
      "\n",
      "CORNSTARCH, CORN SYRUP.\n",
      "\n",
      "DEXTRIN. SALT. COLORING\n",
      "\n",
      "(INCLUDES BLUE 1 LAKE, RED 40.\n",
      "LLOW 6, YELLOW S$. BLUE 1, RED\n",
      "\n",
      "40 LAKE, YELLOW 6 LAK!\n",
      "\n",
      "SLAKE\n",
      "\n",
      "CARNAUBA WAX. GUM ACACIA\n",
      "\n",
      "\n"
     ]
    }
   ],
   "source": [
    "#preprocessing\n",
    "import re\n",
    "\n",
    "def preprocess_text(text):\n",
    "    text = re.sub(r'\\d+', '', text)\n",
    "    text = re.sub(r'[^\\w\\s]', '', text)\n",
    "    text = text.strip().lower()\n",
    "    return text\n",
    "preprocess_text(text)\n",
    "print((text))\n"
   ]
  },
  {
   "cell_type": "code",
   "execution_count": 12,
   "id": "aeb0b5b3-e507-415f-b499-107ef7fb3fc4",
   "metadata": {},
   "outputs": [
    {
     "name": "stderr",
     "output_type": "stream",
     "text": [
      "C:\\Users\\dhruv\\AppData\\Roaming\\Python\\Python311\\site-packages\\spacy\\language.py:2195: FutureWarning: Possible set union at position 6328\n",
      "  deserializers[\"tokenizer\"] = lambda p: self.tokenizer.from_disk(  # type: ignore[union-attr]\n"
     ]
    },
    {
     "name": "stdout",
     "output_type": "stream",
     "text": [
      "Detected chemicals\n",
      "Extracted chemicals: ['nicotine', 'Nicotine', 'FCC', 'Glycerin', 'Cholesterol', 'Sodium', 'S$.']\n"
     ]
    }
   ],
   "source": [
    "#Extract chemiclas from text using spacy\n",
    "import spacy\n",
    "nlp = spacy.load(\"en_ner_bc5cdr_md\")\n",
    "# text = \"Sodium Lauryl Sulfate, Propylparaben, Aloe Vera\"\n",
    "doc = nlp(text)\n",
    "\n",
    "chemicals_ = [ent.text for ent in doc.ents if ent.label_ == \"CHEMICAL\"]\n",
    "if len(chemicals_) == 0 :\n",
    "    print(\"No Chemicals are detected \")\n",
    "else:\n",
    "    chemicals = list(dict.fromkeys(chemicals_))\n",
    "    print(\"Detected chemicals\")\n",
    "    print(\"Extracted chemicals:\", chemicals)"
   ]
  },
  {
   "cell_type": "code",
   "execution_count": 13,
   "id": "6598f6c2-aafa-4bcc-b78b-af970ad78fd7",
   "metadata": {},
   "outputs": [
    {
     "name": "stdout",
     "output_type": "stream",
     "text": [
      "Predicted Category: 2\n"
     ]
    }
   ],
   "source": [
    "# prediction thorugh ml momdel\n",
    "def predict_product_category(text):\n",
    "    clean_text = preprocess_text(text) # preproceessing is getting done \n",
    "    X_vec = vectorizer.transform([clean_text])\n",
    "    predicted_label = model.predict(X_vec)[0]\n",
    "    return predicted_label\n",
    "    \n",
    "predicted_category = predict_product_category(text)\n",
    "print(\"Predicted Category:\", predicted_category)"
   ]
  },
  {
   "cell_type": "code",
   "execution_count": 14,
   "id": "cbebb083-515c-4a8d-b65d-1bbc36c9bb12",
   "metadata": {},
   "outputs": [
    {
     "data": {
      "text/plain": [
       "'CALIFORNIA PROPOSITION 65\\nWarning: This product contoins nicotine, o chemical known to the\\nstote of Colifornio to couse birth defects or other reproductive horm\\n\\nTngr “ym Silas Hota. Nicotine, FCC Grade Vegetable Glycerin,\\n\\n[etre Fos, lv Ac. Westin conten 6 8 per\\ncontri\\n\\nMade in China.\\nFlavors mode in USA\\n©2012 LOEC, in.\\n\\nblu™ ond blu eCigs® are trademarks of Lorillord Technologies, Inc.\\n\\n1 serving per pack\\nServing size 1 pack (32.35)\\ncesar appara\\n\\nCalories 150\\n\\nTrans Fat 09\\nCholesterol m9\\nSodium 1059 ot\\n\\nINGREDIENTS\\nMILK CHOCOLATE (SUGAR\\nCHOCOLATE MILK. COCOA\\nBL T T. SOY\\nLE\\n\\n(WHEAT FLOUR. NIACIN\\n\\nIRON, AMINE M\\n\\nRIBOFLAVIN, FOLIC ACID)\\n\\nMODIFIED SAGO STARCH. SAI\\n\\nSOYBEAN OIL, CORN SYRUP.\\n\\nBARLEY MALT EXTRACT\\n\\nLEAVENING (BAKING SODA. YEAS\\n\\nAND/OR AMMONIUM\\n\\nBICARBONATE)]. LESS THAN 2\\n\\nCORNSTARCH, CORN SYRUP.\\n\\nDEXTRIN. SALT. COLORING\\n\\n(INCLUDES BLUE 1 LAKE, RED 40.\\nLLOW 6, YELLOW S$. BLUE 1, RED\\n\\n40 LAKE, YELLOW 6 LAK!\\n\\nSLAKE\\n\\nCARNAUBA WAX. GUM ACACIA\\n\\n'"
      ]
     },
     "execution_count": 14,
     "metadata": {},
     "output_type": "execute_result"
    }
   ],
   "source": [
    "text #do some preprocessing to remove stopwordsd, punctuation \\n \"\" etc"
   ]
  },
  {
   "cell_type": "code",
   "execution_count": 15,
   "id": "31064861-93e7-4428-8bc5-efc2ec50834c",
   "metadata": {},
   "outputs": [],
   "source": [
    "# #advance of predicted category\n",
    "# def predict_category_with_fallback(text, ensemble_model, vectorizer, label_encoder, threshold=0.45):\n",
    "#     clean_text = preprocess_text(text)\n",
    "#     X_vec = vectorizer.transform([clean_text])\n",
    "\n",
    "#     # Get soft-voted probabilities (prefer ensemble's predict_proba if available)\n",
    "#     if hasattr(ensemble_model, \"predict_proba\"):\n",
    "#         proba = ensemble_model.predict_proba(X_vec)[0]\n",
    "#     else:\n",
    "#         proba = get_proba(ensemble_model, X_vec)\n",
    "\n",
    "#     max_confidence = float(np.max(proba))\n",
    "#     label_idx = int(np.argmax(proba))\n",
    "\n",
    "#     # Decode to original string label using label encoder\n",
    "#     try:\n",
    "#         predicted_label = label_encoder.inverse_transform([label_idx])[0]\n",
    "#     except Exception:\n",
    "#         # fallback if label encoder can't map: use numeric index\n",
    "#         predicted_label = label_idx\n",
    "\n",
    "#     if max_confidence < threshold:\n",
    "#         return \"others\", proba\n",
    "#     return predicted_label, proba\n"
   ]
  },
  {
   "cell_type": "code",
   "execution_count": 16,
   "id": "151b78e3-b729-4d21-b6ff-d8c7110d904e",
   "metadata": {},
   "outputs": [],
   "source": [
    "# category, proba = predict_category_with_fallback(text, model, vectorizer, label_encoder)\n",
    "# print(\"Predicted Category:\", category)"
   ]
  },
  {
   "cell_type": "code",
   "execution_count": 17,
   "id": "6e29107d-0f10-414f-bc8a-aa6d81694e80",
   "metadata": {},
   "outputs": [],
   "source": [
    "# print(\"Confidence Scores:\", dict(zip(label_encoder.classes_, proba)))"
   ]
  },
  {
   "cell_type": "code",
   "execution_count": 18,
   "id": "0f9ee447-0834-4d50-866c-930af2c57d03",
   "metadata": {},
   "outputs": [
    {
     "name": "stdout",
     "output_type": "stream",
     "text": [
      "Predicted Category: food | Confidence: 0.67\n"
     ]
    }
   ],
   "source": [
    "#more advanced\n",
    "def preprocess_text(text):\n",
    "    return text.lower().replace(\",\", \" \")\n",
    "\n",
    "def predict_category_with_fallback(text, model, vectorizer, label_encoder, threshold=0.45):\n",
    "    clean_text = preprocess_text(text)\n",
    "    X_vec = vectorizer.transform([clean_text])\n",
    "    \n",
    "    proba = model.predict_proba(X_vec)[0]\n",
    "    max_confidence = np.max(proba)\n",
    "    predicted_index = np.argmax(proba)\n",
    "    predicted_label = label_encoder.inverse_transform([predicted_index])[0]\n",
    "\n",
    "    if max_confidence < threshold:\n",
    "        return \"others\", max_confidence\n",
    "    return predicted_label, max_confidence\n",
    "\n",
    "\n",
    "category, confidence = predict_category_with_fallback(text, model, vectorizer, label_encoder)\n",
    "print(f\"Predicted Category: {category} | Confidence: {confidence:.2f}\")\n"
   ]
  },
  {
   "cell_type": "code",
   "execution_count": 19,
   "id": "2d708abb-0fd2-4b41-8a89-4f37fef7131c",
   "metadata": {},
   "outputs": [
    {
     "name": "stdout",
     "output_type": "stream",
     "text": [
      "Average Harm Score: 36.40%\n",
      "Risk Level: Moderate Risk\n",
      "Category :food\n"
     ]
    }
   ],
   "source": [
    "def calculate_harm_score(chemicals, category, harm_scores_csv):\n",
    "    harm_df = pd.read_csv(harm_scores_csv)\n",
    "    \n",
    "    # Column for the specific category\n",
    "    category_col = f\"harm_score_{category}\"\n",
    "    if category_col not in harm_df.columns:\n",
    "        raise ValueError(f\"Category '{category}' not found in harm score table.\")\n",
    "\n",
    "    scores = []\n",
    "    for chem in chemicals:\n",
    "        row = harm_df[harm_df['chemical_name'].str.lower() == chem.lower()]\n",
    "        if not row.empty:\n",
    "            score = row[category_col].values[0]\n",
    "            scores.append(score)\n",
    "\n",
    "    if not scores:\n",
    "        return None, None  # No chemicals matched\n",
    "\n",
    "    avg_score = sum(scores) / len(scores)\n",
    "\n",
    "    # Risk Level\n",
    "    if avg_score <= 30:\n",
    "        risk = \"Low Risk\"\n",
    "    elif avg_score <= 70:\n",
    "        risk = \"Moderate Risk\"\n",
    "    else:\n",
    "        risk = \"High Risk\"\n",
    "\n",
    "    return avg_score, risk\n",
    "\n",
    "\n",
    "# chemicals_list = [\"Sodium Benzoate\", \"Citric Acid\",\" Natural Flavours\", \"Xanthan Gum\", \"Sugar\"]  # From OCR\n",
    "# predicted_category = \"cosmetic\"\n",
    "\n",
    "avg_score, risk_level = calculate_harm_score(chemicals, category, \"chemical_harmness_category.csv\")\n",
    "\n",
    "print(f\"Average Harm Score: {avg_score:.2f}%\")\n",
    "print(f\"Risk Level: {risk_level}\")\n",
    "print(f\"Category :{category}\")"
   ]
  },
  {
   "cell_type": "code",
   "execution_count": 20,
   "id": "93e299da-19be-42b8-abfe-54cb2755d118",
   "metadata": {},
   "outputs": [
    {
     "name": "stdout",
     "output_type": "stream",
     "text": [
      "{'nicotine': 80, 'Nicotine': 80, 'Glycerin': 5, 'Cholesterol': 12, 'Sodium': 5} 36.4 Moderate Risk\n"
     ]
    }
   ],
   "source": [
    "import pandas as pd\n",
    "harm_df=pd.read_csv(\"chemical_harmness_category.csv\")\n",
    "def calculate_harm_score(chemicals, category):\n",
    "    # harm_df = pd.read_csv(harm_scores_csv)\n",
    "    \n",
    "    category_col = f\"harm_score_{category.lower()}\"\n",
    "    if category_col not in harm_df.columns:\n",
    "        raise ValueError(f\"Category '{category}' not found in harm score table.\")\n",
    "    \n",
    "    individual_scores = {}\n",
    "    \n",
    "    for chem in chemicals:\n",
    "        row = harm_df[harm_df['chemical_name'].str.lower() == chem.lower()]\n",
    "        if not row.empty:\n",
    "            score = row[category_col].values[0]\n",
    "            individual_scores[chem] = score\n",
    "\n",
    "    if not individual_scores:\n",
    "        return {}, None, None  # No matching chemicals\n",
    "\n",
    "    avg_score = sum(individual_scores.values()) / len(individual_scores)\n",
    "\n",
    "    if avg_score <= 30:\n",
    "        risk = \"Low Risk\"\n",
    "    elif avg_score <= 70:\n",
    "        risk = \"Moderate Risk\"\n",
    "    else:\n",
    "        risk = \"High Risk\"\n",
    "\n",
    "    return individual_scores, avg_score, risk\n",
    "scores, avg_score, risk_level = calculate_harm_score(chemicals, category)\n",
    "print(scores, avg_score, risk_level)\n",
    "#also write each harm title through manually coding "
   ]
  },
  {
   "cell_type": "code",
   "execution_count": 21,
   "id": "f7817a86-4f19-4e2e-9077-014def1a4248",
   "metadata": {},
   "outputs": [
    {
     "name": "stdout",
     "output_type": "stream",
     "text": [
      "❌ No product found for this barcode.\n"
     ]
    }
   ],
   "source": [
    "import requests\n",
    "\n",
    "def get_general_product_info(barcode):\n",
    "    url = f\"https://api.upcitemdb.com/prod/trial/lookup?upc={barcode}\"\n",
    "    \n",
    "    response = requests.get(url)\n",
    "    if response.status_code != 200:\n",
    "        print(\"❌ Failed to fetch data from UPCitemdb API.\")\n",
    "        return None\n",
    "    \n",
    "    data = response.json()\n",
    "    \n",
    "    if not data.get('items'):\n",
    "        print(\"❌ No product found for this barcode.\")\n",
    "        return None\n",
    "\n",
    "    item = data['items'][0]\n",
    "    title = item.get('title', 'N/A')\n",
    "    brand = item.get('brand', 'N/A')\n",
    "    category = item.get('category', 'N/A')\n",
    "    description = item.get('description', 'N/A')\n",
    "\n",
    "    print(f\"✅ Product Title: {title}\")\n",
    "    print(f\"Brand: {brand}\")\n",
    "    print(f\"Category: {category}\")\n",
    "    print(f\"Description: {description}\")\n",
    "\n",
    "    return {\n",
    "        'title': title,\n",
    "        'brand': brand,\n",
    "        'category': category\n",
    "    }\n",
    "\n",
    "# Example usage:\n",
    "# get_general_product_info(\"028400642511\")\n",
    "# get_general_product_info(\"012993441012\")  # Sample barcode\n",
    "get_general_product_info(data)"
   ]
  },
  {
   "cell_type": "code",
   "execution_count": 22,
   "id": "c7174df4-cfc2-436f-ad66-5b142ceaec85",
   "metadata": {},
   "outputs": [],
   "source": [
    "# Mapping category keywords to harm score columns\n",
    "category_mapping = {\n",
    "    'food': 'harm_score_food',\n",
    "    'cosmetic': 'harm_score_cosmetic',\n",
    "    'personal care': 'harm_score_personal_care',\n",
    "    'cleaning': 'harm_score_cleaning',\n",
    "    'stationery': 'harm_score_stationery',\n",
    "    'household': 'harm_score_household',\n",
    "    'medicine': 'harm_score_medicine',\n",
    "    'others': 'harm_score_others'\n",
    "}"
   ]
  },
  {
   "cell_type": "code",
   "execution_count": 23,
   "id": "46ae8434-5e77-4c7c-bf15-d38c4a9883b6",
   "metadata": {},
   "outputs": [
    {
     "name": "stdout",
     "output_type": "stream",
     "text": [
      "Using column: harm_score_food\n"
     ]
    }
   ],
   "source": [
    "api_category = \"Food, Beverages & Tobacco > Food Items > Cooking & Baking Ingredients > Flour\"\n",
    "\n",
    "# Find matching key in mapping\n",
    "matched_key = next((key for key in category_mapping if key in api_category.lower()), 'others')\n",
    "\n",
    "\n",
    "harm_score_column = category_mapping[matched_key]\n",
    "\n",
    "print(\"Using column:\", harm_score_column)\n"
   ]
  },
  {
   "cell_type": "code",
   "execution_count": 24,
   "id": "11e3f364-c193-48b8-b734-2908fd9e489d",
   "metadata": {},
   "outputs": [
    {
     "name": "stdout",
     "output_type": "stream",
     "text": [
      "Total Harm Score (food): 36.4\n",
      "Risk Level : Moderate Risk\n"
     ]
    }
   ],
   "source": [
    "import pandas as pd\n",
    "\n",
    "# Your chemical list from the detected product (example)\n",
    "# chemicals = ['Citric Acid', 'Xanthan Gum', 'Sugar']\n",
    "\n",
    "# Your harm score dataframe\n",
    "df = pd.read_csv(\"chemical_harmness_category.csv\")\n",
    "\n",
    "# Filter relevant chemicals\n",
    "filtered_df = df[df['chemical_name'].isin(chemicals)]\n",
    "\n",
    "# Sum the relevant harm score column\n",
    "avg_score = filtered_df[harm_score_column].sum()/len(filtered_df)\n",
    "if avg_score <= 30:\n",
    "     risk = \"Low Risk\"\n",
    "elif avg_score <= 70:\n",
    "     risk = \"Moderate Risk\"\n",
    "else:\n",
    "     risk = \"High Risk\"\n",
    "\n",
    "   \n",
    "\n",
    "\n",
    "print(f\"Total Harm Score ({matched_key}):\", avg_score)\n",
    "print(f\"Risk Level : {risk}\")\n"
   ]
  },
  {
   "cell_type": "code",
   "execution_count": 25,
   "id": "79bdeb71-3c32-464e-8965-9a946bc28f0e",
   "metadata": {},
   "outputs": [
    {
     "data": {
      "text/plain": [
       "['nicotine', 'Nicotine', 'FCC', 'Glycerin', 'Cholesterol', 'Sodium', 'S$.']"
      ]
     },
     "execution_count": 25,
     "metadata": {},
     "output_type": "execute_result"
    }
   ],
   "source": [
    "chemicals\n"
   ]
  },
  {
   "cell_type": "code",
   "execution_count": 26,
   "id": "2a9f9d21-78d1-4fb2-930c-723a4171c8fb",
   "metadata": {},
   "outputs": [],
   "source": [
    "#50 seconda without reducing with 26 tabs"
   ]
  },
  {
   "cell_type": "code",
   "execution_count": 27,
   "id": "0fcf8a7f-5266-48f1-9e3c-4502de70b288",
   "metadata": {},
   "outputs": [],
   "source": [
    "#based on wieght theier harmness will be measured like sugar =10 low sugar 90m high risk"
   ]
  },
  {
   "cell_type": "code",
   "execution_count": 55,
   "id": "90320112-dfd5-4d87-872c-6928f5c1e72b",
   "metadata": {},
   "outputs": [],
   "source": [
    "def function(img_path):\n",
    "    image = cv2.imread(img_path)  \n",
    "    gray = cv2.cvtColor(image, cv2.COLOR_BGR2GRAY)\n",
    "    gray = cv2.GaussianBlur(gray, (3, 3), 0)\n",
    "\n",
    "    text = pytesseract.image_to_string(gray) #img to text \n",
    "    clean_text = preprocess_text(text)  #preprocessing\n",
    "    \n",
    "\n",
    "    \n",
    "    #chemiclas extraction\n",
    "    doc = nlp(clean_text)\n",
    "    chemicals = [ent.text for ent in doc.ents if ent.label_ == \"CHEMICAL\"]\n",
    "    chemicals = list(set(chemicals))\n",
    "\n",
    "    if len(chemicals) == 0 :\n",
    "        print(\"No Chemicals are detected \")\n",
    "    else:\n",
    "        # chemicals = list(dict.fromkeys(chemicals))\n",
    "        print(\"Detected chemicals\")\n",
    "        print(\"Extracted chemicals:\", chemicals)\n",
    "\n",
    "    process_barcode_image(gray, category_mapping, chemicals)\n",
    "\n",
    "    \n",
    "    #model\n",
    "    category, confidence = predict_category_with_fallback(clean_text, model, vectorizer, label_encoder, threshold=0.45)\n",
    "    print(f\"Predicted Category: {category} | Confidence: {confidence:.2f}\")\n",
    " \n",
    "    individual_scores, avg_score, risk = calculate_harm_score(chemicals, category)\n",
    "    print(f\"Average Harm Score: {avg_score:.2f}%\")\n",
    "    print(f\"Risk Level: {risk}\")\n",
    "    print(f\"Category :{category}\")\n",
    "    print(f\"Individual :{individual_scores}\")#also write thier type\n",
    "\n",
    "import cv2\n",
    "import requests\n",
    "import pandas as pd\n",
    "from pyzbar import pyzbar\n",
    "\n",
    "def process_barcode_image(gray, category_mapping, chemicals):\n",
    "    # Load the image\n",
    "    # image = cv2.imread(image_path)\n",
    "    if image is None:\n",
    "        print(f\"❌ Could not load image: {image}\")\n",
    "        return\n",
    "        \n",
    "    barcodes = pyzbar.decode(gray)\n",
    "\n",
    "    if not barcodes:\n",
    "        print(\"⚠️ No barcodes found.\")\n",
    "        return\n",
    "\n",
    "    for barcode in barcodes:\n",
    "        x, y, w, h = barcode.rect\n",
    "        barcode_data = barcode.data.decode('utf-8')\n",
    "        # barcode_data=\"012993441012\"\n",
    "        type_ = barcode.type\n",
    "        print(f\"✅ Detected {type_} barcode: {barcode_data}\")\n",
    "\n",
    "        url = f\"https://api.upcitemdb.com/prod/trial/lookup?upc={barcode_data}\"\n",
    "        response = requests.get(url)\n",
    "\n",
    "        if response.status_code != 200:\n",
    "            print(\"❌ Failed to fetch data from UPCitemdb API.\")\n",
    "            return\n",
    "\n",
    "        data = response.json()\n",
    "        if not data.get('items'):\n",
    "            print(\"❌ No product found for this barcode.\")\n",
    "            return\n",
    "\n",
    "        item = data['items'][0]\n",
    "        title = item.get('title', 'N/A')\n",
    "        brand = item.get('brand', 'N/A')\n",
    "        category = item.get('category', 'N/A')\n",
    "        description = item.get('description', 'N/A')\n",
    "\n",
    "        print(f\"✅ Product Title: {title}\")\n",
    "        print(f\"Brand: {brand}\")\n",
    "        print(f\"Category: {category}\")\n",
    "\n",
    "        api_category = category\n",
    "        matched_key = next((key for key in category_mapping if key in api_category.lower()), 'others')\n",
    "        harm_score_column = category_mapping[matched_key]\n",
    "        print(\"Using column:\", harm_score_column)\n",
    "\n",
    "    \n",
    "        filtered_df = harm_df[harm_df['chemical_name'].isin(chemicals)]\n",
    "\n",
    "        if filtered_df.empty:\n",
    "            print(\"⚠️ No matching chemicals found.\")\n",
    "            return\n",
    "\n",
    "        avg_score = filtered_df[harm_score_column].sum() / len(filtered_df)\n",
    "        if avg_score <= 30:\n",
    "            risk = \"Low Risk\"\n",
    "        elif avg_score <= 70:\n",
    "            risk = \"Moderate Risk\"\n",
    "        else:\n",
    "            risk = \"High Risk\"\n",
    "\n",
    "        print(f\"Total Harm Score ({matched_key}): {avg_score:.2f}\")\n",
    "        print(f\"Risk Level : {risk}\")\n"
   ]
  },
  {
   "cell_type": "code",
   "execution_count": 56,
   "id": "1e5ac6b1-89bd-4021-93d5-59e9ad46c730",
   "metadata": {},
   "outputs": [],
   "source": [
    "img_path=\"Screenshot 2025-06-08 161620.png\""
   ]
  },
  {
   "cell_type": "code",
   "execution_count": 57,
   "id": "3ae24417-cc03-48b2-967f-a79b9da2d15b",
   "metadata": {},
   "outputs": [
    {
     "name": "stdout",
     "output_type": "stream",
     "text": [
      "Detected chemicals\n",
      "Extracted chemicals: ['iron', 'riboflavin', 'barley malt extract', 'nicotine', 'cholesterol', 'glycerin', 'sodium', 'ammonium', 'amine', 'bicarbonate', 'gum acacia', 'cocoa', 'folic acid', 'niacin']\n",
      "✅ Detected EAN13 barcode: 0858099003002\n",
      "❌ No product found for this barcode.\n",
      "Predicted Category: food | Confidence: 0.67\n",
      "Average Harm Score: 20.00%\n",
      "Risk Level: Low Risk\n",
      "Category :food\n",
      "Individual :{'iron': 10, 'nicotine': 80, 'cholesterol': 12, 'glycerin': 5, 'sodium': 5, 'folic acid': 8}\n"
     ]
    }
   ],
   "source": [
    "function(img_path) #increase chemical harm score "
   ]
  },
  {
   "cell_type": "code",
   "execution_count": null,
   "id": "1be47d20-858c-42db-8ba2-83286e8eb4b2",
   "metadata": {},
   "outputs": [],
   "source": []
  },
  {
   "cell_type": "code",
   "execution_count": 58,
   "id": "1c207c18-33ca-4039-ba48-b8c8af23bdb6",
   "metadata": {},
   "outputs": [
    {
     "name": "stdout",
     "output_type": "stream",
     "text": [
      "✅ Detected EAN13 barcode: 0858099003002\n",
      "❌ No product found for this barcode.\n"
     ]
    }
   ],
   "source": [
    "process_barcode_image(gray, category_mapping, chemicals)"
   ]
  },
  {
   "cell_type": "code",
   "execution_count": null,
   "id": "8eb3c6f8-6566-408b-bd42-2fab99208312",
   "metadata": {},
   "outputs": [],
   "source": []
  }
 ],
 "metadata": {
  "kernelspec": {
   "display_name": "Python 3 (ipykernel)",
   "language": "python",
   "name": "python3"
  },
  "language_info": {
   "codemirror_mode": {
    "name": "ipython",
    "version": 3
   },
   "file_extension": ".py",
   "mimetype": "text/x-python",
   "name": "python",
   "nbconvert_exporter": "python",
   "pygments_lexer": "ipython3",
   "version": "3.11.4"
  }
 },
 "nbformat": 4,
 "nbformat_minor": 5
}
