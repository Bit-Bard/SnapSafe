{
 "cells": [
  {
   "cell_type": "code",
   "execution_count": 10,
   "id": "7243efc7-7c08-485d-a95f-af2c335cefef",
   "metadata": {},
   "outputs": [],
   "source": [
    "# img-> barcode extract -> api call -> get details and ingredients -> applied preprocessing on ingredients ->\n",
    "# e1xtract chemicals based on category mahrness detection using model"
   ]
  },
  {
   "cell_type": "code",
   "execution_count": 11,
   "id": "e37307b0-c3b7-4d68-860a-52d46b7039c1",
   "metadata": {},
   "outputs": [],
   "source": [
    "# pipline\n",
    "# 1. detect barcode from img\n",
    "# 2. after detecting get the barcode number\n",
    "# 3. fetch details through api \n",
    "# 4. category and ingredients \n",
    "# 5. match category with csv file (food , cleaning , etc)\n",
    "# 6. ml model integration"
   ]
  },
  {
   "cell_type": "code",
   "execution_count": 43,
   "id": "c485b44c-eb7f-48fe-84f2-8dd1e54bd44e",
   "metadata": {},
   "outputs": [
    {
     "name": "stdout",
     "output_type": "stream",
     "text": [
      "✅ Detected EAN13 barcode: 0204202472287\n"
     ]
    }
   ],
   "source": [
    "import ctypes\n",
    "import cv2\n",
    "from pyzbar import pyzbar\n",
    "from pyzbar import zbar_library\n",
    "\n",
    "# ✅ Step 1: DLL absolute path (your path)\n",
    "dll_path = r\"C:\\Users\\dhruv\\AppData\\Roaming\\Python\\Python311\\site-packages\\pyzbar\\libzbar-64.dll\"\n",
    "\n",
    "# ✅ Step 2: Force pyzbar to use your DLL\n",
    "zbar_library.load = lambda: ctypes.cdll.LoadLibrary(dll_path)\n",
    "\n",
    "# ✅ Step 3: Load the image\n",
    "image_path = \"Barcode_img.jpg\"  # Replace with your actual image filename\n",
    "image = cv2.imread(image_path)\n",
    "\n",
    "# ✅ Step 4: Barcode detection\n",
    "if image is None:\n",
    "    print(f\"❌ Could not load image: {image_path}\")\n",
    "else:\n",
    "    barcodes = pyzbar.decode(image)\n",
    "\n",
    "    if not barcodes:\n",
    "        print(\"⚠️ No barcodes found.\")\n",
    "    else:\n",
    "        for barcode in barcodes:\n",
    "            x, y, w, h = barcode.rect\n",
    "            data = barcode.data.decode('utf-8')\n",
    "            type_ = barcode.type\n",
    "\n",
    "            print(f\"✅ Detected {type_} barcode: {data}\")\n",
    "\n",
    "            # Draw rectangle and label\n",
    "            cv2.rectangle(image, (x, y), (x + w, y + h), (0, 255, 0), 2)\n",
    "            cv2.putText(image, f\"{data} ({type_})\", (x, y - 10),\n",
    "                        cv2.FONT_HERSHEY_SIMPLEX, 0.6, (255, 0, 0), 2)\n",
    "\n",
    "        # ✅ Step 5: Show image with annotations\n",
    "        cv2.imshow(\"Barcode Detection\", image)\n",
    "        cv2.waitKey(0)\n",
    "        cv2.destroyAllWindows()\n"
   ]
  },
  {
   "cell_type": "code",
   "execution_count": 44,
   "id": "4d90b8cc-8177-4a45-9127-cc8802d4dd2f",
   "metadata": {},
   "outputs": [
    {
     "data": {
      "text/plain": [
       "'0204202472287'"
      ]
     },
     "execution_count": 44,
     "metadata": {},
     "output_type": "execute_result"
    }
   ],
   "source": [
    "data"
   ]
  },
  {
   "cell_type": "code",
   "execution_count": 45,
   "id": "d1bac587-1df4-491a-beab-c549ca901d1b",
   "metadata": {},
   "outputs": [
    {
     "name": "stdout",
     "output_type": "stream",
     "text": [
      "✅ DLL loaded successfully.\n"
     ]
    }
   ],
   "source": [
    "dll_path = r\"C:\\Users\\dhruv\\AppData\\Roaming\\Python\\Python311\\site-packages\\pyzbar\\libzbar-64.dll\"\n",
    "try:\n",
    "    ctypes.cdll.LoadLibrary(dll_path)\n",
    "    print(\"✅ DLL loaded successfully.\")\n",
    "except OSError as e:\n",
    "    print(\"❌ DLL load failed:\", e)\n"
   ]
  },
  {
   "cell_type": "code",
   "execution_count": 46,
   "id": "0bdc2ff5-77ae-4331-a8a2-9d4dbd6fa59e",
   "metadata": {},
   "outputs": [
    {
     "name": "stdout",
     "output_type": "stream",
     "text": [
      "✅ Product Title: LaCroix Enhanced Sparkling Water Passionfruit - 12 fl oz\n",
      "Brand: LaCroix\n",
      "Category: Food, Beverages & Tobacco > Beverages > Water > Carbonated Water\n",
      "Description: Passionfruit now available nationwide! Check your local retailers as our newest flavor is added to store shelves throughout early 2015 Gender: unisex.\n"
     ]
    },
    {
     "data": {
      "text/plain": [
       "{'title': 'LaCroix Enhanced Sparkling Water Passionfruit - 12 fl oz',\n",
       " 'brand': 'LaCroix',\n",
       " 'category': 'Food, Beverages & Tobacco > Beverages > Water > Carbonated Water'}"
      ]
     },
     "execution_count": 46,
     "metadata": {},
     "output_type": "execute_result"
    }
   ],
   "source": [
    "import requests\n",
    "\n",
    "def get_general_product_info(barcode):\n",
    "    url = f\"https://api.upcitemdb.com/prod/trial/lookup?upc={barcode}\"\n",
    "    \n",
    "    response = requests.get(url)\n",
    "    if response.status_code != 200:\n",
    "        print(\"❌ Failed to fetch data from UPCitemdb API.\")\n",
    "        return None\n",
    "    \n",
    "    data = response.json()\n",
    "    \n",
    "    if not data.get('items'):\n",
    "        print(\"❌ No product found for this barcode.\")\n",
    "        return None\n",
    "\n",
    "    item = data['items'][0]\n",
    "    title = item.get('title', 'N/A')\n",
    "    brand = item.get('brand', 'N/A')\n",
    "    category = item.get('category', 'N/A')\n",
    "    description = item.get('description', 'N/A')\n",
    "\n",
    "    print(f\"✅ Product Title: {title}\")\n",
    "    print(f\"Brand: {brand}\")\n",
    "    print(f\"Category: {category}\")\n",
    "    print(f\"Description: {description}\")\n",
    "\n",
    "    return {\n",
    "        'title': title,\n",
    "        'brand': brand,\n",
    "        'category': category\n",
    "    }\n",
    "\n",
    "# Example usage:\n",
    "# get_general_product_info(\"028400642511\")\n",
    "get_general_product_info(\"012993441012\")  # Sample barcode\n",
    "# get_general_product_info(data)"
   ]
  },
  {
   "cell_type": "code",
   "execution_count": 47,
   "id": "af43e984-2672-4193-aca3-eba3390e6b9a",
   "metadata": {},
   "outputs": [],
   "source": [
    "# Mapping category keywords to harm score columns\n",
    "category_mapping = {\n",
    "    'food': 'harm_score_food',\n",
    "    'cosmetic': 'harm_score_cosmetic',\n",
    "    'personal care': 'harm_score_personal_care',\n",
    "    'cleaning': 'harm_score_cleaning',\n",
    "    'stationery': 'harm_score_stationery',\n",
    "    'household': 'harm_score_household',\n",
    "    'medicine': 'harm_score_medicine',\n",
    "    'others': 'harm_score_others'\n",
    "}\n"
   ]
  },
  {
   "cell_type": "code",
   "execution_count": 48,
   "id": "56af78ed-ae9b-4097-b8ba-41f2fbc03b2e",
   "metadata": {},
   "outputs": [
    {
     "name": "stdout",
     "output_type": "stream",
     "text": [
      "Using column: harm_score_food\n"
     ]
    }
   ],
   "source": [
    "api_category = \"Food, Beverages & Tobacco > Food Items > Cooking & Baking Ingredients > Flour\"\n",
    "\n",
    "# Find matching key in mapping\n",
    "matched_key = next((key for key in category_mapping if key in api_category.lower()), 'others')\n",
    "\n",
    "\n",
    "harm_score_column = category_mapping[matched_key]\n",
    "\n",
    "print(\"Using column:\", harm_score_column)\n"
   ]
  },
  {
   "cell_type": "code",
   "execution_count": 49,
   "id": "43ba165a-21ac-42af-b0e5-7e62dec81f52",
   "metadata": {},
   "outputs": [
    {
     "name": "stdout",
     "output_type": "stream",
     "text": [
      "Total Harm Score (food): 20\n"
     ]
    }
   ],
   "source": [
    "import pandas as pd\n",
    "\n",
    "# Your chemical list from the detected product (example)\n",
    "chemicals = ['Citric Acid', 'Xanthan Gum', 'Sugar']\n",
    "\n",
    "# Your harm score dataframe\n",
    "df = pd.read_csv(\"chemical_harmness_category.csv\")\n",
    "\n",
    "# Filter relevant chemicals\n",
    "filtered_df = df[df['chemical_name'].isin(chemicals)]\n",
    "\n",
    "# Sum the relevant harm score column\n",
    "total_harm_score = filtered_df[harm_score_column].sum()\n",
    "\n",
    "print(f\"Total Harm Score ({matched_key}):\", total_harm_score)\n"
   ]
  },
  {
   "cell_type": "code",
   "execution_count": null,
   "id": "af418425-4080-42a8-b5ee-76c3aa9f28ee",
   "metadata": {},
   "outputs": [],
   "source": []
  }
 ],
 "metadata": {
  "kernelspec": {
   "display_name": "Python 3 (ipykernel)",
   "language": "python",
   "name": "python3"
  },
  "language_info": {
   "codemirror_mode": {
    "name": "ipython",
    "version": 3
   },
   "file_extension": ".py",
   "mimetype": "text/x-python",
   "name": "python",
   "nbconvert_exporter": "python",
   "pygments_lexer": "ipython3",
   "version": "3.11.4"
  }
 },
 "nbformat": 4,
 "nbformat_minor": 5
}
