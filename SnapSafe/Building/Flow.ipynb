{
 "cells": [
  {
   "cell_type": "code",
   "execution_count": 1,
   "id": "1e2db2b2-fb8b-4e9b-a2fb-667ce5542c37",
   "metadata": {},
   "outputs": [],
   "source": [
    "import joblib\n",
    "from ensemble import MajorityVotingEnsemble \n",
    "label_encoder = joblib.load(\"label_encode_main.joblib\")\n",
    "vectorizer = joblib.load(\"tfidf_vectorizer_main.joblib\")"
   ]
  },
  {
   "cell_type": "code",
   "execution_count": 2,
   "id": "9a23212e-e432-46f4-aff5-2f875fdacd4e",
   "metadata": {},
   "outputs": [],
   "source": [
    "def patch_ensemble(ensemble):\n",
    "    if not hasattr(ensemble, \"weights\"):\n",
    "        ensemble.weights = [1.0] * len(ensemble.models)\n",
    "    if not hasattr(ensemble, \"tie_breaker_order\"):\n",
    "        ensemble.tie_breaker_order = list(range(len(ensemble.models)))\n",
    "    if not hasattr(ensemble, \"n_classes\"):\n",
    "        ensemble.n_classes = None\n",
    "    return ensemble\n",
    "\n",
    "# ensemble = joblib.load(\"majority_ensemble.joblib\")\n",
    "# model = patch_ensemble(ensemble)\n",
    "\n",
    "# # Usage\n",
    "# import joblib\n",
    "# ensemble = joblib.load(\"majority_ensemble.pkl\")\n",
    "# ensemble = patch_ensemble(ensemble)\n"
   ]
  },
  {
   "cell_type": "code",
   "execution_count": 3,
   "id": "3f90cf89-7388-4026-b156-ecc45fddc1f6",
   "metadata": {},
   "outputs": [],
   "source": [
    "# Load the ensemble (which contains its own model instances)\n",
    "model = joblib.load(\"majority_ensemble.pkl\")\n",
    "# if not hasattr(ensemble, \"weights\"):\n",
    "#     ensemble.weights = [1.0] * len(ensemble.models)\n",
    "# if not hasattr(ensemble, \"tie_breaker_order\"):\n",
    "#     ensemble.tie_breaker_order = list(range(len(ensemble.models)))\n",
    "# if not hasattr(ensemble, \"n_classes\"):\n",
    "#     ensemble.n_classes = None"
   ]
  },
  {
   "cell_type": "code",
   "execution_count": 4,
   "id": "5149a2cd-a3ab-4205-870e-d1bd50caa14e",
   "metadata": {},
   "outputs": [],
   "source": [
    "import pytesseract\n",
    "import cv2\n",
    "import pubchempy as pcp\n",
    "from PIL import Image\n",
    "import numpy as np\n",
    "import pandas as pd\n",
    "import matplotlib.pyplot as plt"
   ]
  },
  {
   "cell_type": "code",
   "execution_count": 5,
   "id": "99d800a7-5051-4a84-b674-f381c16de130",
   "metadata": {},
   "outputs": [],
   "source": [
    "pytesseract.pytesseract.tesseract_cmd = r'C:\\Users\\dhruv\\AppData\\Local\\Programs\\Tesseract-OCR\\tesseract.exe' #tesseract path"
   ]
  },
  {
   "cell_type": "code",
   "execution_count": 6,
   "id": "ec47dfc3-df52-408f-830b-f06816cd5b0f",
   "metadata": {},
   "outputs": [],
   "source": [
    "#image then convert it into \n",
    "image = cv2.imread('Screenshot 2025-06-08 161620.png')  \n",
    "gray = cv2.cvtColor(image, cv2.COLOR_BGR2GRAY)\n",
    "# remove noise and improve clarity\n",
    "gray = cv2.GaussianBlur(gray, (3, 3), 0)"
   ]
  },
  {
   "cell_type": "code",
   "execution_count": 7,
   "id": "f3212d89-de11-460c-baa0-8708adabbfa3",
   "metadata": {},
   "outputs": [
    {
     "name": "stdout",
     "output_type": "stream",
     "text": [
      "Extracted Ingredients:\n",
      "964\n"
     ]
    }
   ],
   "source": [
    "#Ocr: it will extract text from img\n",
    "text = pytesseract.image_to_string(gray)\n",
    "print(\"Extracted Ingredients:\")\n",
    "print(len(text))"
   ]
  },
  {
   "cell_type": "code",
   "execution_count": 8,
   "id": "e39d8e16-a5a5-4e01-80d1-81dadad76afe",
   "metadata": {},
   "outputs": [
    {
     "name": "stdout",
     "output_type": "stream",
     "text": [
      "CALIFORNIA PROPOSITION 65\n",
      "Warning: This product contoins nicotine, o chemical known to the\n",
      "stote of Colifornio to couse birth defects or other reproductive horm\n",
      "\n",
      "Tngr “ym Silas Hota. Nicotine, FCC Grade Vegetable Glycerin,\n",
      "\n",
      "[etre Fos, lv Ac. Westin conten 6 8 per\n",
      "contri\n",
      "\n",
      "Made in China.\n",
      "Flavors mode in USA\n",
      "©2012 LOEC, in.\n",
      "\n",
      "blu™ ond blu eCigs® are trademarks of Lorillord Technologies, Inc.\n",
      "\n",
      "1 serving per pack\n",
      "Serving size 1 pack (32.35)\n",
      "cesar appara\n",
      "\n",
      "Calories 150\n",
      "\n",
      "Trans Fat 09\n",
      "Cholesterol m9\n",
      "Sodium 1059 ot\n",
      "\n",
      "INGREDIENTS\n",
      "MILK CHOCOLATE (SUGAR\n",
      "CHOCOLATE MILK. COCOA\n",
      "BL T T. SOY\n",
      "LE\n",
      "\n",
      "(WHEAT FLOUR. NIACIN\n",
      "\n",
      "IRON, AMINE M\n",
      "\n",
      "RIBOFLAVIN, FOLIC ACID)\n",
      "\n",
      "MODIFIED SAGO STARCH. SAI\n",
      "\n",
      "SOYBEAN OIL, CORN SYRUP.\n",
      "\n",
      "BARLEY MALT EXTRACT\n",
      "\n",
      "LEAVENING (BAKING SODA. YEAS\n",
      "\n",
      "AND/OR AMMONIUM\n",
      "\n",
      "BICARBONATE)]. LESS THAN 2\n",
      "\n",
      "CORNSTARCH, CORN SYRUP.\n",
      "\n",
      "DEXTRIN. SALT. COLORING\n",
      "\n",
      "(INCLUDES BLUE 1 LAKE, RED 40.\n",
      "LLOW 6, YELLOW S$. BLUE 1, RED\n",
      "\n",
      "40 LAKE, YELLOW 6 LAK!\n",
      "\n",
      "SLAKE\n",
      "\n",
      "CARNAUBA WAX. GUM ACACIA\n",
      "\n",
      "\n"
     ]
    }
   ],
   "source": [
    "import re\n",
    "#increase this preprocess step further\n",
    "def preprocess_text(text):\n",
    "    # Remove special characters, digits, extra whitespace\n",
    "    text = re.sub(r'\\d+', '', text)\n",
    "    text = re.sub(r'[^\\w\\s]', '', text)\n",
    "    text = text.strip().lower()\n",
    "    return text\n",
    "preprocess_text(text)\n",
    "print((text))"
   ]
  },
  {
   "cell_type": "code",
   "execution_count": 9,
   "id": "2ddc9e38-e88e-4fa9-97cf-a18bd0f2eace",
   "metadata": {},
   "outputs": [],
   "source": [
    "def predict_product_category(text):\n",
    "    clean_text = preprocess_text(text)\n",
    "    X_vec = vectorizer.transform([clean_text])\n",
    "    predicted_label = model.predict(X_vec)[0]\n",
    "    return predicted_label"
   ]
  },
  {
   "cell_type": "code",
   "execution_count": 10,
   "id": "593ad649-0c20-47ab-8fd7-7a698bc7f66e",
   "metadata": {},
   "outputs": [
    {
     "name": "stdout",
     "output_type": "stream",
     "text": [
      "Predicted Category: 2\n"
     ]
    }
   ],
   "source": [
    "ocr_output_text = \"Aqua, Glycerin, Paraben, Fragrance\"\n",
    "ocr_output2 = \"Calcium Carbonate, Microcrystalline Cellulose, Talc, Magnesium Stearate\"\n",
    "\n",
    "predicted_category = predict_product_category(text)\n",
    "print(\"Predicted Category:\", predicted_category)\n",
    "# chemical_list = [\"Paraben\", \"Fragrance\", \"Glycerin\"]\n",
    "# for chem in chemical_list:\n",
    "#     score = get_contextual_harm_score(chem, predicted_category)\n",
    "#     print(f\"{chem} in {predicted_category} → Harm Score: {score}%\")\n"
   ]
  },
  {
   "cell_type": "code",
   "execution_count": 11,
   "id": "94e535e0-3e97-4b3c-82b4-b65dd78a09bd",
   "metadata": {},
   "outputs": [],
   "source": [
    "def predict_category_with_fallback(text, ensemble_model, vectorizer, label_encoder, threshold=0.45):\n",
    "    clean_text = preprocess_text(text)\n",
    "    X_vec = vectorizer.transform([clean_text])\n",
    "\n",
    "    # Get soft-voted probabilities (prefer ensemble's predict_proba if available)\n",
    "    if hasattr(ensemble_model, \"predict_proba\"):\n",
    "        proba = ensemble_model.predict_proba(X_vec)[0]\n",
    "    else:\n",
    "        proba = get_proba(ensemble_model, X_vec)\n",
    "\n",
    "    max_confidence = float(np.max(proba))\n",
    "    label_idx = int(np.argmax(proba))\n",
    "\n",
    "    # Decode to original string label using label encoder\n",
    "    try:\n",
    "        predicted_label = label_encoder.inverse_transform([label_idx])[0]\n",
    "    except Exception:\n",
    "        # fallback if label encoder can't map: use numeric index\n",
    "        predicted_label = label_idx\n",
    "\n",
    "    if max_confidence < threshold:\n",
    "        return \"others\", proba\n",
    "    return predicted_label, proba\n"
   ]
  },
  {
   "cell_type": "code",
   "execution_count": 12,
   "id": "caf0e79d-43d4-423e-a09b-337abd9643b3",
   "metadata": {},
   "outputs": [],
   "source": [
    "def get_proba(model, X):\n",
    "    if hasattr(model, \"predict_proba\"):\n",
    "        return model.predict_proba(X)[0]\n",
    "    else:\n",
    "        pred = model.predict(X)[0]\n",
    "        if hasattr(label_encoder, \"classes_\"):\n",
    "            # assume label_encoder was used to train underlying models\n",
    "            idx = list(label_encoder.transform(label_encoder.classes_)).index(label_encoder.transform([pred])[0])\n",
    "            proba = np.zeros(len(label_encoder.classes_), dtype=float)\n",
    "            proba[idx] = 1.0\n",
    "            return proba\n",
    "        else:\n",
    "            raise AttributeError(\"Cannot build probability vector: no predict_proba and no label encoder classes available.\")\n"
   ]
  },
  {
   "cell_type": "code",
   "execution_count": 13,
   "id": "56372300-740a-420d-9372-938f59c28ee8",
   "metadata": {},
   "outputs": [
    {
     "name": "stdout",
     "output_type": "stream",
     "text": [
      "Predicted Category: stationery\n"
     ]
    }
   ],
   "source": [
    "category, proba = predict_category_with_fallback(ocr_output2, model, vectorizer, label_encoder)\n",
    "print(\"Predicted Category:\", category)"
   ]
  },
  {
   "cell_type": "code",
   "execution_count": 14,
   "id": "0998bd75-8155-4a84-a729-76c59485e313",
   "metadata": {},
   "outputs": [
    {
     "name": "stdout",
     "output_type": "stream",
     "text": [
      "Confidence Scores: {'cleaning': 0.040672822044312495, 'cosmetic': 0.023018081011089125, 'food': 0.12923677488670474, 'household': 0.012567232254505003, 'medicine': 0.028478053859106917, 'personal_care': 0.0111475007332833, 'stationery': 0.7548795352109984}\n"
     ]
    }
   ],
   "source": [
    "# print(\"Confidence Scores:\", dict(zip(model.classes_, proba)))\n",
    "print(\"Confidence Scores:\", dict(zip(label_encoder.classes_, proba)))\n"
   ]
  },
  {
   "cell_type": "code",
   "execution_count": 15,
   "id": "a51b6068-f80c-43e2-964a-3ced92737cc2",
   "metadata": {},
   "outputs": [
    {
     "name": "stderr",
     "output_type": "stream",
     "text": [
      "C:\\Users\\dhruv\\AppData\\Roaming\\Python\\Python311\\site-packages\\spacy\\language.py:2195: FutureWarning: Possible set union at position 6328\n",
      "  deserializers[\"tokenizer\"] = lambda p: self.tokenizer.from_disk(  # type: ignore[union-attr]\n"
     ]
    },
    {
     "name": "stdout",
     "output_type": "stream",
     "text": [
      "Extracted chemicals: ['Sodium Lauryl', 'Propylparaben', 'Aloe']\n"
     ]
    }
   ],
   "source": [
    "import spacy\n",
    "nlp = spacy.load(\"en_ner_bc5cdr_md\")\n",
    "text = \"Sodium Lauryl Sulfate, Propylparaben, Aloe Vera\"\n",
    "doc = nlp(text)\n",
    "\n",
    "chemicals = [ent.text for ent in doc.ents if ent.label_ == \"CHEMICAL\"]\n",
    "print(\"Extracted chemicals:\", chemicals)"
   ]
  },
  {
   "cell_type": "code",
   "execution_count": 16,
   "id": "d31eb7ee-0757-488f-9238-08e7ad665d0c",
   "metadata": {},
   "outputs": [],
   "source": [
    "ocr_output = \"nicotine, Nicotine, FCC, Glycerin, Cholesterol, Sodium\""
   ]
  },
  {
   "cell_type": "code",
   "execution_count": 17,
   "id": "21c81f95-56ad-44f5-8e47-ea91a195ae33",
   "metadata": {},
   "outputs": [
    {
     "name": "stdout",
     "output_type": "stream",
     "text": [
      "Predicted Category: cleaning | Confidence: 0.58\n"
     ]
    }
   ],
   "source": [
    "\n",
    "def preprocess_text(text):\n",
    "    return text.lower().replace(\",\", \" \")\n",
    "\n",
    "def predict_category_with_fallback(text, model, vectorizer, label_encoder, threshold=0.45):\n",
    "    clean_text = preprocess_text(text)\n",
    "    X_vec = vectorizer.transform([clean_text])\n",
    "    \n",
    "    proba = model.predict_proba(X_vec)[0]\n",
    "    max_confidence = np.max(proba)\n",
    "    predicted_index = np.argmax(proba)\n",
    "    predicted_label = label_encoder.inverse_transform([predicted_index])[0]\n",
    "\n",
    "    if max_confidence < threshold:\n",
    "        return \"others\", max_confidence\n",
    "    return predicted_label, max_confidence\n",
    "\n",
    "\n",
    "category, confidence = predict_category_with_fallback(ocr_output, model, vectorizer, label_encoder)\n",
    "print(f\"Predicted Category: {category} | Confidence: {confidence:.2f}\")\n"
   ]
  },
  {
   "cell_type": "code",
   "execution_count": 18,
   "id": "8c9304b5-63dd-45f0-8c36-1e857cbd7710",
   "metadata": {},
   "outputs": [
    {
     "name": "stdout",
     "output_type": "stream",
     "text": [
      "Text: Aqua, Glycerin, Paraben, Fragrance, Dimethicone\n",
      " → Predicted Category: personal_care | Confidence: 0.51\n",
      "\n",
      "Text: Sodium Benzoate, Citric Acid, Natural Flavours, Xanthan Gum, Sugar\n",
      " → Predicted Category: food | Confidence: 0.66\n",
      "\n",
      "Text: Water, Sodium Laureth Sulfate, Cocamidopropyl Betaine, PEG-40, Perfume\n",
      " → Predicted Category: food | Confidence: 0.56\n",
      "\n",
      "Text: Paracetamol, Caffeine, Starch, Povidone, Magnesium Stearate\n",
      " → Predicted Category: stationery | Confidence: 0.63\n",
      "\n",
      "Text: Sodium Hypochlorite, Limonene, Alcohol Ethoxylate, Sodium Carbonate, Water\n",
      " → Predicted Category: cleaning | Confidence: 0.80\n",
      "\n",
      "Text: Polyvinyl Alcohol, Acetone, Isopropyl Alcohol, Ethylene Glycol, Pigment Red 22\n",
      " → Predicted Category: cleaning | Confidence: 0.45\n",
      "\n",
      "Text: Citronellol, Linalool, D-Limonene, Butylphenyl Methylpropional, Coumarin\n",
      " → Predicted Category: medicine | Confidence: 0.53\n",
      "\n",
      "Text: Polystyrene, Formaldehyde, Ethanolamine, Dipropylene Glycol, BHT\n",
      " → Predicted Category: household | Confidence: 0.77\n",
      "\n"
     ]
    }
   ],
   "source": [
    "examples = [\n",
    "    \"Aqua, Glycerin, Paraben, Fragrance, Dimethicone\",\n",
    "    \"Sodium Benzoate, Citric Acid, Natural Flavours, Xanthan Gum, Sugar\",\n",
    "    \"Water, Sodium Laureth Sulfate, Cocamidopropyl Betaine, PEG-40, Perfume\",\n",
    "    \"Paracetamol, Caffeine, Starch, Povidone, Magnesium Stearate\",\n",
    "    \"Sodium Hypochlorite, Limonene, Alcohol Ethoxylate, Sodium Carbonate, Water\",\n",
    "    \"Polyvinyl Alcohol, Acetone, Isopropyl Alcohol, Ethylene Glycol, Pigment Red 22\",\n",
    "    \"Citronellol, Linalool, D-Limonene, Butylphenyl Methylpropional, Coumarin\",\n",
    "    \"Polystyrene, Formaldehyde, Ethanolamine, Dipropylene Glycol, BHT\"\n",
    "]\n",
    "\n",
    "for text in examples:\n",
    "    category, confidence = predict_category_with_fallback(text, model, vectorizer, label_encoder)\n",
    "    print(f\"Text: {text}\\n → Predicted Category: {category} | Confidence: {confidence:.2f}\\n\")"
   ]
  },
  {
   "cell_type": "code",
   "execution_count": 19,
   "id": "2a867cd0-37a4-4a68-b407-6edc3b20ca3d",
   "metadata": {},
   "outputs": [
    {
     "name": "stdout",
     "output_type": "stream",
     "text": [
      "Average Harm Score: 20.00%\n",
      "Risk Level: Low Risk\n",
      "Category :cosmetic\n"
     ]
    }
   ],
   "source": [
    "def calculate_harm_score(chemicals, category, harm_scores_csv):\n",
    "    harm_df = pd.read_csv(harm_scores_csv)\n",
    "    \n",
    "    # Column for the specific category\n",
    "    category_col = f\"harm_score_{category}\"\n",
    "    if category_col not in harm_df.columns:\n",
    "        raise ValueError(f\"Category '{category}' not found in harm score table.\")\n",
    "\n",
    "    scores = []\n",
    "    for chem in chemicals:\n",
    "        row = harm_df[harm_df['chemical_name'].str.lower() == chem.lower()]\n",
    "        if not row.empty:\n",
    "            score = row[category_col].values[0]\n",
    "            scores.append(score)\n",
    "\n",
    "    if not scores:\n",
    "        return None, None  # No chemicals matched\n",
    "\n",
    "    avg_score = sum(scores) / len(scores)\n",
    "\n",
    "    # Risk Level\n",
    "    if avg_score <= 30:\n",
    "        risk = \"Low Risk\"\n",
    "    elif avg_score <= 70:\n",
    "        risk = \"Moderate Risk\"\n",
    "    else:\n",
    "        risk = \"High Risk\"\n",
    "\n",
    "    return avg_score, risk\n",
    "\n",
    "\n",
    "chemicals_list = [\"Sodium Benzoate\", \"Citric Acid\",\" Natural Flavours\", \"Xanthan Gum\", \"Sugar\"]  # From OCR\n",
    "predicted_category = \"cosmetic\"\n",
    "\n",
    "avg_score, risk_level = calculate_harm_score(\n",
    "    chemicals_list, \n",
    "    predicted_category, \n",
    "    \"chemical_harmness_category.csv\"\n",
    ")\n",
    "\n",
    "print(f\"Average Harm Score: {avg_score:.2f}%\")\n",
    "print(f\"Risk Level: {risk_level}\")\n",
    "print(f\"Category :{predicted_category}\")"
   ]
  },
  {
   "cell_type": "code",
   "execution_count": 20,
   "id": "9c2d2e9d-29ca-465e-812c-313cfd6e1d7c",
   "metadata": {},
   "outputs": [
    {
     "name": "stdout",
     "output_type": "stream",
     "text": [
      "✅ Product Title: LaCroix Enhanced Sparkling Water Passionfruit - 12 fl oz\n",
      "Brand: LaCroix\n",
      "Category: Food, Beverages & Tobacco > Beverages > Water > Carbonated Water\n",
      "Description: Passionfruit now available nationwide! Check your local retailers as our newest flavor is added to store shelves throughout early 2015 Gender: unisex.\n"
     ]
    },
    {
     "data": {
      "text/plain": [
       "{'title': 'LaCroix Enhanced Sparkling Water Passionfruit - 12 fl oz',\n",
       " 'brand': 'LaCroix',\n",
       " 'category': 'Food, Beverages & Tobacco > Beverages > Water > Carbonated Water',\n",
       " 'description': 'Passionfruit now available nationwide! Check your local retailers as our newest flavor is added to store shelves throughout early 2015 Gender: unisex.'}"
      ]
     },
     "execution_count": 20,
     "metadata": {},
     "output_type": "execute_result"
    }
   ],
   "source": [
    "import requests\n",
    "\n",
    "def get_general_product_info(barcode):\n",
    "    url = f\"https://api.upcitemdb.com/prod/trial/lookup?upc={barcode}\"\n",
    "    \n",
    "    response = requests.get(url)\n",
    "    if response.status_code != 200:\n",
    "        print(\"❌ Failed to fetch data from UPCitemdb API.\")\n",
    "        return None\n",
    "    \n",
    "    data = response.json()\n",
    "    \n",
    "    if not data.get('items'):\n",
    "        print(\"❌ No product found for this barcode.\")\n",
    "        return None\n",
    "\n",
    "    item = data['items'][0]\n",
    "    title = item.get('title', 'N/A')\n",
    "    brand = item.get('brand', 'N/A')\n",
    "    category = item.get('category', 'N/A')\n",
    "    description = item.get('description', 'N/A')\n",
    "\n",
    "    print(f\"✅ Product Title: {title}\")\n",
    "    print(f\"Brand: {brand}\")\n",
    "    print(f\"Category: {category}\")\n",
    "    print(f\"Description: {description}\")\n",
    "\n",
    "    return {\n",
    "        'title': title,\n",
    "        'brand': brand,\n",
    "        'category': category,\n",
    "        'description': description\n",
    "    }\n",
    "\n",
    "# Example usage:\n",
    "# get_general_product_info(\"028400642511\")\n",
    "# get_general_product_info(\"012993441012\")  # Sample barcode\n",
    "# get_general_product_info(data)"
   ]
  },
  {
   "cell_type": "code",
   "execution_count": null,
   "id": "abf83c6e-bff3-4c34-bdc2-a560f7ead32a",
   "metadata": {},
   "outputs": [],
   "source": []
  }
 ],
 "metadata": {
  "kernelspec": {
   "display_name": "Python 3 (ipykernel)",
   "language": "python",
   "name": "python3"
  },
  "language_info": {
   "codemirror_mode": {
    "name": "ipython",
    "version": 3
   },
   "file_extension": ".py",
   "mimetype": "text/x-python",
   "name": "python",
   "nbconvert_exporter": "python",
   "pygments_lexer": "ipython3",
   "version": "3.11.4"
  }
 },
 "nbformat": 4,
 "nbformat_minor": 5
}
