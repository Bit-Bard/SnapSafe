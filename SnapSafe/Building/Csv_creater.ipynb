{
 "cells": [
  {
   "cell_type": "code",
   "execution_count": 2,
   "id": "c4874954-9fad-4004-b2a3-d52d3027bf26",
   "metadata": {},
   "outputs": [],
   "source": [
    "import numpy as np\n",
    "import pandas as pd"
   ]
  },
  {
   "cell_type": "code",
   "execution_count": 9,
   "id": "e8848f88-f57b-45e8-bd38-3584225c685e",
   "metadata": {},
   "outputs": [
    {
     "name": "stdout",
     "output_type": "stream",
     "text": [
      "Completely empty CSV file has been created successfully.\n"
     ]
    }
   ],
   "source": [
    "# Creating a completely empty CSV file\n",
    "with open('mega_chemical_harmness_category2.csv', mode='w', newline='') as file:\n",
    "    pass\n",
    "\n",
    "print(\"Completely empty CSV file has been created successfully.\")\n"
   ]
  },
  {
   "cell_type": "code",
   "execution_count": 10,
   "id": "e85848dc-a10c-460a-80d5-8b7b20e19b22",
   "metadata": {},
   "outputs": [
    {
     "name": "stdout",
     "output_type": "stream",
     "text": [
      "Text file has been converted to CSV successfully.\n"
     ]
    }
   ],
   "source": [
    "import csv\n",
    "\n",
    "input_txt_file = 'ingredient_dataset (1).txt'\n",
    "output_csv_file = 'mega_chemical_harmness_category2.csv'\n",
    "\n",
    "# Reading the text file\n",
    "with open(input_txt_file, 'r') as txtfile:\n",
    "    lines = txtfile.readlines()\n",
    "\n",
    "# Writing to the CSV file\n",
    "with open(output_csv_file, 'w', newline='') as csvfile:\n",
    "    writer = csv.writer(csvfile)\n",
    "    for line in lines:\n",
    "        # Assuming the values are separated by commas\n",
    "        row = line.strip().split(',')\n",
    "        writer.writerow(row)\n",
    "\n",
    "print(\"Text file has been converted to CSV successfully.\")\n"
   ]
  },
  {
   "cell_type": "code",
   "execution_count": null,
   "id": "938c851b-7686-45fe-900b-8795b88c1892",
   "metadata": {},
   "outputs": [],
   "source": []
  },
  {
   "cell_type": "code",
   "execution_count": 11,
   "id": "7f3a4d2c-9eb6-44f0-982f-d12c09c7e481",
   "metadata": {},
   "outputs": [
    {
     "data": {
      "text/html": [
       "<div>\n",
       "<style scoped>\n",
       "    .dataframe tbody tr th:only-of-type {\n",
       "        vertical-align: middle;\n",
       "    }\n",
       "\n",
       "    .dataframe tbody tr th {\n",
       "        vertical-align: top;\n",
       "    }\n",
       "\n",
       "    .dataframe thead th {\n",
       "        text-align: right;\n",
       "    }\n",
       "</style>\n",
       "<table border=\"1\" class=\"dataframe\">\n",
       "  <thead>\n",
       "    <tr style=\"text-align: right;\">\n",
       "      <th></th>\n",
       "      <th></th>\n",
       "      <th></th>\n",
       "      <th></th>\n",
       "      <th>ingredients</th>\n",
       "      <th>category</th>\n",
       "    </tr>\n",
       "  </thead>\n",
       "  <tbody>\n",
       "    <tr>\n",
       "      <th>\"Caprylyl Glucoside</th>\n",
       "      <th>Octyl Glucoside</th>\n",
       "      <th>Decyl Glucoside</th>\n",
       "      <th>Lauryl Glucoside</th>\n",
       "      <td>Coco Glucoside\"</td>\n",
       "      <td>personal_care</td>\n",
       "    </tr>\n",
       "    <tr>\n",
       "      <th>\"Polysorbate 20</th>\n",
       "      <th>Polysorbate 40</th>\n",
       "      <th>Polysorbate 60</th>\n",
       "      <th>Polysorbate 80</th>\n",
       "      <td>Polysorbate 85\"</td>\n",
       "      <td>cleaning</td>\n",
       "    </tr>\n",
       "    <tr>\n",
       "      <th>\"Polysorbate 85</th>\n",
       "      <th>Polysorbate 20</th>\n",
       "      <th>Polysorbate 80</th>\n",
       "      <th>Polysorbate 40</th>\n",
       "      <td>Polysorbate 60\"</td>\n",
       "      <td>cleaning</td>\n",
       "    </tr>\n",
       "    <tr>\n",
       "      <th>\"Polysorbate 60</th>\n",
       "      <th>Polysorbate 80</th>\n",
       "      <th>Polysorbate 85</th>\n",
       "      <th>Polysorbate 20</th>\n",
       "      <td>Polysorbate 40\"</td>\n",
       "      <td>cleaning</td>\n",
       "    </tr>\n",
       "    <tr>\n",
       "      <th>\"Polysorbate 40</th>\n",
       "      <th>Polysorbate 60</th>\n",
       "      <th>Polysorbate 20</th>\n",
       "      <th>Polysorbate 85</th>\n",
       "      <td>Polysorbate 80\"</td>\n",
       "      <td>cleaning</td>\n",
       "    </tr>\n",
       "  </tbody>\n",
       "</table>\n",
       "</div>"
      ],
      "text/plain": [
       "                                                                           ingredients  \\\n",
       "\"Caprylyl Glucoside Octyl Glucoside Decyl Glucoside Lauryl Glucoside   Coco Glucoside\"   \n",
       "\"Polysorbate 20     Polysorbate 40  Polysorbate 60  Polysorbate 80     Polysorbate 85\"   \n",
       "\"Polysorbate 85     Polysorbate 20  Polysorbate 80  Polysorbate 40     Polysorbate 60\"   \n",
       "\"Polysorbate 60     Polysorbate 80  Polysorbate 85  Polysorbate 20     Polysorbate 40\"   \n",
       "\"Polysorbate 40     Polysorbate 60  Polysorbate 20  Polysorbate 85     Polysorbate 80\"   \n",
       "\n",
       "                                                                           category  \n",
       "\"Caprylyl Glucoside Octyl Glucoside Decyl Glucoside Lauryl Glucoside  personal_care  \n",
       "\"Polysorbate 20     Polysorbate 40  Polysorbate 60  Polysorbate 80         cleaning  \n",
       "\"Polysorbate 85     Polysorbate 20  Polysorbate 80  Polysorbate 40         cleaning  \n",
       "\"Polysorbate 60     Polysorbate 80  Polysorbate 85  Polysorbate 20         cleaning  \n",
       "\"Polysorbate 40     Polysorbate 60  Polysorbate 20  Polysorbate 85         cleaning  "
      ]
     },
     "execution_count": 11,
     "metadata": {},
     "output_type": "execute_result"
    }
   ],
   "source": [
    "data=pd.read_csv(\"mega_chemical_harmness_category2.csv\")\n",
    "data.head()"
   ]
  },
  {
   "cell_type": "code",
   "execution_count": 39,
   "id": "02c3935c-6113-4dad-8836-c3cd4aade47a",
   "metadata": {},
   "outputs": [
    {
     "data": {
      "text/plain": [
       "(624, 9)"
      ]
     },
     "execution_count": 39,
     "metadata": {},
     "output_type": "execute_result"
    }
   ],
   "source": [
    "data.shape"
   ]
  },
  {
   "cell_type": "code",
   "execution_count": 40,
   "id": "068ebaf3-1dc7-4f1e-a369-9dc527ad6879",
   "metadata": {},
   "outputs": [
    {
     "data": {
      "text/plain": [
       "(615, 9)"
      ]
     },
     "execution_count": 40,
     "metadata": {},
     "output_type": "execute_result"
    }
   ],
   "source": [
    "data=data.drop_duplicates()\n",
    "data.shape"
   ]
  },
  {
   "cell_type": "code",
   "execution_count": 26,
   "id": "74d205ac-bb18-4998-bac1-642d08f7452b",
   "metadata": {},
   "outputs": [
    {
     "data": {
      "text/plain": [
       "category\n",
       "food             45\n",
       "cosmetic         45\n",
       "personal_care    43\n",
       "cleaning         40\n",
       "stationery       40\n",
       "medicine         40\n",
       "others           39\n",
       "household        38\n",
       "Name: count, dtype: int64"
      ]
     },
     "execution_count": 26,
     "metadata": {},
     "output_type": "execute_result"
    }
   ],
   "source": [
    "data['category'].value_counts()"
   ]
  },
  {
   "cell_type": "code",
   "execution_count": null,
   "id": "4a32ac7a-7243-4b77-8362-22b1d7779ff6",
   "metadata": {},
   "outputs": [],
   "source": []
  },
  {
   "cell_type": "code",
   "execution_count": 24,
   "id": "8915d340-8310-4735-a72e-f5ad3852e545",
   "metadata": {},
   "outputs": [],
   "source": [
    "data.to_csv(\"500rows.csv\",index=False)"
   ]
  },
  {
   "cell_type": "markdown",
   "id": "e12a57bf-e981-4ac3-9233-b9c6b9ee31a7",
   "metadata": {},
   "source": [
    "**Harmness Detector**"
   ]
  },
  {
   "cell_type": "code",
   "execution_count": 11,
   "id": "d073d4dd-0655-4890-9469-0d38a33bca82",
   "metadata": {},
   "outputs": [],
   "source": [
    "# chem=pd.read_csv(\"Chemicals_name2.csv\")\n",
    "# chem.head()"
   ]
  },
  {
   "cell_type": "code",
   "execution_count": null,
   "id": "0ca85344-93cb-41e7-a926-243c12ae2c9b",
   "metadata": {},
   "outputs": [],
   "source": [
    "# def get_harm_info(chemical_name):\n",
    "#     # Case-insensitive search\n",
    "#     row = harm_df[harm_df[\"chemical_name\"].str.lower() == chemical_name.lower()]\n",
    "    \n",
    "#     if not row.empty:\n",
    "#         harm_score = int(row[\"harm_score\"].values[0])\n",
    "#         alternative = row[\"alternative\"].values[0]\n",
    "#         return harm_score, alternative\n",
    "#     else:\n",
    "#         # If chemical not found, treat as safe with no alternative\n",
    "#         return 0, None\n"
   ]
  },
  {
   "cell_type": "code",
   "execution_count": 10,
   "id": "46e0a1b6-8b9e-42dc-acd3-bd9f8648aadb",
   "metadata": {},
   "outputs": [],
   "source": [
    "def get_harm_info(chemical_name):\n",
    "    row=chem[chem[\"chemical_name\"].str.lower()==chemical_name.lower()]\n",
    "\n",
    "    if not row.empty:\n",
    "        harm_score=int(row[\"harm_score\"].values[0])\n",
    "        #no alternative values\n",
    "        return harm_score\n",
    "\n",
    "    else:\n",
    "        #chemicals name not found return Safe \n",
    "        return 0,None"
   ]
  },
  {
   "cell_type": "code",
   "execution_count": 8,
   "id": "1cf8f0c4-2854-4be4-9eab-bc74af9c788a",
   "metadata": {},
   "outputs": [],
   "source": [
    "filtered_chemicals = [\"Sodium Lauryl Sulfate\", \"Methylparaben\", \"Aloe Vera\"]\n"
   ]
  },
  {
   "cell_type": "code",
   "execution_count": 9,
   "id": "6322cf63-e3ef-442b-abd7-c620b7bd2006",
   "metadata": {},
   "outputs": [],
   "source": [
    "# for chemical in filtered_chemicals:\n",
    "#     harm_score, alternative = get_harm_info(chemical)\n",
    "#     print(f\"Chemical: {chemical}\")\n",
    "#     print(f\"  Harmfulness Score: {harm_score}%\")\n",
    "#     if alternative:\n",
    "#         print(f\"  Safer Alternative: {alternative}\")\n",
    "#     else:\n",
    "#         print(\"  No safer alternative found.\")\n",
    "#     print()\n"
   ]
  },
  {
   "cell_type": "code",
   "execution_count": 10,
   "id": "8a915b0b-d3d7-4e6c-a1d2-6597c3315180",
   "metadata": {},
   "outputs": [
    {
     "name": "stdout",
     "output_type": "stream",
     "text": [
      "Chemical:Sodium Lauryl Sulfate\n",
      "Harmfullness Score: 80%\n",
      "Chemical:Methylparaben\n",
      "Harmfullness Score: 90%\n",
      "Chemical:Aloe Vera\n",
      "Harmfullness Score: 0%\n"
     ]
    }
   ],
   "source": [
    "#integration with chemical \n",
    "for chemical in filtered_chemicals:\n",
    "    harm_score = get_harm_info(chemical)\n",
    "    print(f\"Chemical:{chemical}\")\n",
    "    print(f\"Harmfullness Score: {harm_score}%\")\n",
    "\n",
    "    # if alternative:\n",
    "    #     print(f\"Safer Alternative:{Alternative}\")\n",
    "    # else:\n",
    "    #     print(\"No safer alternative\")\n",
    "    # print()"
   ]
  },
  {
   "cell_type": "code",
   "execution_count": 11,
   "id": "1f242e2a-e655-4cb8-b565-4809325f7393",
   "metadata": {},
   "outputs": [
    {
     "data": {
      "image/png": "[encoded data removed]",
      "text/plain": [
       "<Figure size 1000x500 with 1 Axes>"
      ]
     },
     "metadata": {},
     "output_type": "display_data"
    }
   ],
   "source": [
    "import matplotlib.pyplot as plt\n",
    "\n",
    "# Prepare data\n",
    "chemical_names = filtered_chemicals\n",
    "harm_scores = [get_harm_info(c) for c in chemical_names]\n",
    "\n",
    "# Plot\n",
    "plt.figure(figsize=(10, 5))\n",
    "plt.bar(chemical_names, harm_scores, color=['green' if s <= 30 else 'orange' if s <= 70 else 'red' for s in harm_scores])\n",
    "plt.xticks(rotation=45, ha='right')\n",
    "plt.ylabel(\"Harmfulness Score (%)\")\n",
    "plt.title(\"Harm Score of Detected Chemicals\")\n",
    "plt.tight_layout()\n",
    "plt.show()"
   ]
  },
  {
   "cell_type": "code",
   "execution_count": 38,
   "id": "0827ddd6-e92c-4d59-854c-fc3601fc8009",
   "metadata": {},
   "outputs": [],
   "source": [
    "data['category'] = data['category'].str.replace('\"', '')"
   ]
  },
  {
   "cell_type": "code",
   "execution_count": 39,
   "id": "7d3d1c2e-95f5-44bb-b44b-4e4bab4904df",
   "metadata": {},
   "outputs": [
    {
     "data": {
      "text/plain": [
       "array(['food', 'cosmetic', 'personal_care', 'cleaning', 'stationery',\n",
       "       'household', 'medicine', 'others', nan], dtype=object)"
      ]
     },
     "execution_count": 39,
     "metadata": {},
     "output_type": "execute_result"
    }
   ],
   "source": [
    "data['category'].unique()"
   ]
  },
  {
   "cell_type": "code",
   "execution_count": 40,
   "id": "37a5c3d8-8f29-4512-9ca0-3b0cfb6353be",
   "metadata": {},
   "outputs": [
    {
     "data": {
      "text/plain": [
       "ingredients    0\n",
       "category       1\n",
       "dtype: int64"
      ]
     },
     "execution_count": 40,
     "metadata": {},
     "output_type": "execute_result"
    }
   ],
   "source": [
    "data.isnull().sum()"
   ]
  },
  {
   "cell_type": "code",
   "execution_count": 41,
   "id": "1cd71f4d-f87d-414f-9f07-478c3fbdc120",
   "metadata": {},
   "outputs": [
    {
     "data": {
      "text/plain": [
       "(1093, 2)"
      ]
     },
     "execution_count": 41,
     "metadata": {},
     "output_type": "execute_result"
    }
   ],
   "source": [
    "data.shape"
   ]
  },
  {
   "cell_type": "code",
   "execution_count": 42,
   "id": "58123232-faf0-4f6a-93a0-87b0e0a2431b",
   "metadata": {},
   "outputs": [
    {
     "data": {
      "text/plain": [
       "(1092, 2)"
      ]
     },
     "execution_count": 42,
     "metadata": {},
     "output_type": "execute_result"
    }
   ],
   "source": [
    "data=data.dropna()\n",
    "data.shape"
   ]
  },
  {
   "cell_type": "code",
   "execution_count": 24,
   "id": "1e06e4d5-ef4a-49b9-81f0-394a614f5ebc",
   "metadata": {},
   "outputs": [
    {
     "data": {
      "text/plain": [
       "(180, 2)"
      ]
     },
     "execution_count": 24,
     "metadata": {},
     "output_type": "execute_result"
    }
   ],
   "source": [
    "data=data.drop_duplicates()\n",
    "data.shape"
   ]
  },
  {
   "cell_type": "code",
   "execution_count": 43,
   "id": "a45b97ca-39a9-4a75-9670-f5c2c59cec62",
   "metadata": {},
   "outputs": [
    {
     "data": {
      "text/plain": [
       "912"
      ]
     },
     "execution_count": 43,
     "metadata": {},
     "output_type": "execute_result"
    }
   ],
   "source": [
    "dup=data.duplicated()\n",
    "dup.sum()"
   ]
  },
  {
   "cell_type": "code",
   "execution_count": 44,
   "id": "60e9b98a-a5e9-46a2-9d21-cbce526968c4",
   "metadata": {},
   "outputs": [
    {
     "data": {
      "text/plain": [
       "(180, 2)"
      ]
     },
     "execution_count": 44,
     "metadata": {},
     "output_type": "execute_result"
    }
   ],
   "source": [
    "data=data.drop_duplicates()\n",
    "data.shape"
   ]
  },
  {
   "cell_type": "code",
   "execution_count": null,
   "id": "e47e3a30-5153-439a-9f68-8a8e24ecb1d9",
   "metadata": {},
   "outputs": [],
   "source": []
  }
 ],
 "metadata": {
  "kernelspec": {
   "display_name": "Python 3 (ipykernel)",
   "language": "python",
   "name": "python3"
  },
  "language_info": {
   "codemirror_mode": {
    "name": "ipython",
    "version": 3
   },
   "file_extension": ".py",
   "mimetype": "text/x-python",
   "name": "python",
   "nbconvert_exporter": "python",
   "pygments_lexer": "ipython3",
   "version": "3.11.4"
  }
 },
 "nbformat": 4,
 "nbformat_minor": 5
}
